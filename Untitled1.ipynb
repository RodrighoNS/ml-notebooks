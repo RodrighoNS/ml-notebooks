{
 "cells": [
  {
   "cell_type": "code",
   "execution_count": 2,
   "metadata": {},
   "outputs": [],
   "source": [
    "from itertools import product\n",
    "\n",
    "# Arbol de lanzamientos\n",
    "n = 4 # número de veces que lanzo la moneda\n",
    "omega = set(product(['C','S'],repeat = n))"
   ]
  },
  {
   "cell_type": "code",
   "execution_count": 9,
   "metadata": {},
   "outputs": [],
   "source": [
    "A = {om for om in omega if om.count('C')>=2} \n",
    "B = {om for om in omega if om.count('S')>=1} \n",
    "\n",
    "def cond_prob(x,y): # y = condicion\n",
    "    return len(x & y) / len(y)"
   ]
  },
  {
   "cell_type": "code",
   "execution_count": 10,
   "metadata": {},
   "outputs": [
    {
     "data": {
      "text/plain": [
       "{('C', 'C', 'C', 'C'),\n",
       " ('C', 'C', 'C', 'S'),\n",
       " ('C', 'C', 'S', 'C'),\n",
       " ('C', 'C', 'S', 'S'),\n",
       " ('C', 'S', 'C', 'C'),\n",
       " ('C', 'S', 'C', 'S'),\n",
       " ('C', 'S', 'S', 'C'),\n",
       " ('S', 'C', 'C', 'C'),\n",
       " ('S', 'C', 'C', 'S'),\n",
       " ('S', 'C', 'S', 'C'),\n",
       " ('S', 'S', 'C', 'C')}"
      ]
     },
     "execution_count": 10,
     "metadata": {},
     "output_type": "execute_result"
    }
   ],
   "source": [
    "A"
   ]
  },
  {
   "cell_type": "code",
   "execution_count": 11,
   "metadata": {},
   "outputs": [
    {
     "data": {
      "text/plain": [
       "{('C', 'C', 'C', 'S'),\n",
       " ('C', 'C', 'S', 'C'),\n",
       " ('C', 'C', 'S', 'S'),\n",
       " ('C', 'S', 'C', 'C'),\n",
       " ('C', 'S', 'C', 'S'),\n",
       " ('C', 'S', 'S', 'C'),\n",
       " ('C', 'S', 'S', 'S'),\n",
       " ('S', 'C', 'C', 'C'),\n",
       " ('S', 'C', 'C', 'S'),\n",
       " ('S', 'C', 'S', 'C'),\n",
       " ('S', 'C', 'S', 'S'),\n",
       " ('S', 'S', 'C', 'C'),\n",
       " ('S', 'S', 'C', 'S'),\n",
       " ('S', 'S', 'S', 'C'),\n",
       " ('S', 'S', 'S', 'S')}"
      ]
     },
     "execution_count": 11,
     "metadata": {},
     "output_type": "execute_result"
    }
   ],
   "source": [
    "B"
   ]
  },
  {
   "cell_type": "code",
   "execution_count": 13,
   "metadata": {},
   "outputs": [
    {
     "data": {
      "text/plain": [
       "0.9090909090909091"
      ]
     },
     "execution_count": 13,
     "metadata": {},
     "output_type": "execute_result"
    }
   ],
   "source": [
    "# B = lo que quiero saber\n",
    "# A = condición\n",
    "cond_prob(B,A)"
   ]
  },
  {
   "cell_type": "code",
   "execution_count": null,
   "metadata": {},
   "outputs": [],
   "source": []
  }
 ],
 "metadata": {
  "kernelspec": {
   "display_name": "Python 3",
   "language": "python",
   "name": "python3"
  },
  "language_info": {
   "codemirror_mode": {
    "name": "ipython",
    "version": 3
   },
   "file_extension": ".py",
   "mimetype": "text/x-python",
   "name": "python",
   "nbconvert_exporter": "python",
   "pygments_lexer": "ipython3",
   "version": "3.8.5"
  }
 },
 "nbformat": 4,
 "nbformat_minor": 4
}
